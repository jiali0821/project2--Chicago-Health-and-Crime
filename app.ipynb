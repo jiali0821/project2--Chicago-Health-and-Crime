{
 "cells": [
  {
   "cell_type": "code",
   "execution_count": 5,
   "metadata": {
    "collapsed": true
   },
   "outputs": [],
   "source": [
    "# Dependencies\n",
    "import pandas as pd\n",
    "# Python SQL toolkit and Object Relational Mapper\n",
    "import sqlalchemy\n",
    "from sqlalchemy import create_engine, MetaData\n",
    "from sqlalchemy.ext.declarative import declarative_base\n",
    "from sqlalchemy import Column, Integer, String, Numeric, Text, Float"
   ]
  },
  {
   "cell_type": "code",
   "execution_count": 11,
   "metadata": {},
   "outputs": [
    {
     "data": {
      "text/html": [
       "<div>\n",
       "<style>\n",
       "    .dataframe thead tr:only-child th {\n",
       "        text-align: right;\n",
       "    }\n",
       "\n",
       "    .dataframe thead th {\n",
       "        text-align: left;\n",
       "    }\n",
       "\n",
       "    .dataframe tbody tr th {\n",
       "        vertical-align: top;\n",
       "    }\n",
       "</style>\n",
       "<table border=\"1\" class=\"dataframe\">\n",
       "  <thead>\n",
       "    <tr style=\"text-align: right;\">\n",
       "      <th></th>\n",
       "      <th>ID</th>\n",
       "      <th>Date</th>\n",
       "      <th>Primary Type</th>\n",
       "      <th>Arrest</th>\n",
       "      <th>Domestic</th>\n",
       "      <th>Community Area</th>\n",
       "      <th>Latitude</th>\n",
       "      <th>Longitude</th>\n",
       "      <th>Community Area Name</th>\n",
       "      <th>Birth Rate</th>\n",
       "      <th>...</th>\n",
       "      <th>Childhood Lead Poisoning</th>\n",
       "      <th>Gonorrhea in Females</th>\n",
       "      <th>Gonorrhea in Males</th>\n",
       "      <th>Tuberculosis</th>\n",
       "      <th>Below Poverty Level</th>\n",
       "      <th>Crowded Housing</th>\n",
       "      <th>Dependency</th>\n",
       "      <th>No High School Diploma</th>\n",
       "      <th>Per Capita Income</th>\n",
       "      <th>Unemployment</th>\n",
       "    </tr>\n",
       "  </thead>\n",
       "  <tbody>\n",
       "    <tr>\n",
       "      <th>0</th>\n",
       "      <td>10000092</td>\n",
       "      <td>3/18/15 19:44</td>\n",
       "      <td>BATTERY</td>\n",
       "      <td>False</td>\n",
       "      <td>False</td>\n",
       "      <td>25</td>\n",
       "      <td>41.89139886</td>\n",
       "      <td>-87.74438457</td>\n",
       "      <td>Austin</td>\n",
       "      <td>18.0</td>\n",
       "      <td>...</td>\n",
       "      <td>2.0</td>\n",
       "      <td>1741.1</td>\n",
       "      <td>1678.9</td>\n",
       "      <td>5.8</td>\n",
       "      <td>27.0</td>\n",
       "      <td>5.7</td>\n",
       "      <td>39.0</td>\n",
       "      <td>25.0</td>\n",
       "      <td>15920</td>\n",
       "      <td>21.0</td>\n",
       "    </tr>\n",
       "    <tr>\n",
       "      <th>1</th>\n",
       "      <td>10000097</td>\n",
       "      <td>3/18/15 21:00</td>\n",
       "      <td>ROBBERY</td>\n",
       "      <td>False</td>\n",
       "      <td>False</td>\n",
       "      <td>25</td>\n",
       "      <td>41.87806476</td>\n",
       "      <td>-87.74335401</td>\n",
       "      <td>Austin</td>\n",
       "      <td>18.0</td>\n",
       "      <td>...</td>\n",
       "      <td>2.0</td>\n",
       "      <td>1741.1</td>\n",
       "      <td>1678.9</td>\n",
       "      <td>5.8</td>\n",
       "      <td>27.0</td>\n",
       "      <td>5.7</td>\n",
       "      <td>39.0</td>\n",
       "      <td>25.0</td>\n",
       "      <td>15920</td>\n",
       "      <td>21.0</td>\n",
       "    </tr>\n",
       "    <tr>\n",
       "      <th>2</th>\n",
       "      <td>10000111</td>\n",
       "      <td>3/18/15 22:31</td>\n",
       "      <td>THEFT</td>\n",
       "      <td>True</td>\n",
       "      <td>False</td>\n",
       "      <td>25</td>\n",
       "      <td>41.89494561</td>\n",
       "      <td>-87.75487498</td>\n",
       "      <td>Austin</td>\n",
       "      <td>18.0</td>\n",
       "      <td>...</td>\n",
       "      <td>2.0</td>\n",
       "      <td>1741.1</td>\n",
       "      <td>1678.9</td>\n",
       "      <td>5.8</td>\n",
       "      <td>27.0</td>\n",
       "      <td>5.7</td>\n",
       "      <td>39.0</td>\n",
       "      <td>25.0</td>\n",
       "      <td>15920</td>\n",
       "      <td>21.0</td>\n",
       "    </tr>\n",
       "    <tr>\n",
       "      <th>3</th>\n",
       "      <td>10000123</td>\n",
       "      <td>3/18/15 21:44</td>\n",
       "      <td>WEAPONS VIOLATION</td>\n",
       "      <td>True</td>\n",
       "      <td>False</td>\n",
       "      <td>25</td>\n",
       "      <td>41.88093404</td>\n",
       "      <td>-87.76487944</td>\n",
       "      <td>Austin</td>\n",
       "      <td>18.0</td>\n",
       "      <td>...</td>\n",
       "      <td>2.0</td>\n",
       "      <td>1741.1</td>\n",
       "      <td>1678.9</td>\n",
       "      <td>5.8</td>\n",
       "      <td>27.0</td>\n",
       "      <td>5.7</td>\n",
       "      <td>39.0</td>\n",
       "      <td>25.0</td>\n",
       "      <td>15920</td>\n",
       "      <td>21.0</td>\n",
       "    </tr>\n",
       "    <tr>\n",
       "      <th>4</th>\n",
       "      <td>10000169</td>\n",
       "      <td>3/12/15 10:00</td>\n",
       "      <td>ASSAULT</td>\n",
       "      <td>False</td>\n",
       "      <td>False</td>\n",
       "      <td>25</td>\n",
       "      <td>41.89382065</td>\n",
       "      <td>-87.76535652</td>\n",
       "      <td>Austin</td>\n",
       "      <td>18.0</td>\n",
       "      <td>...</td>\n",
       "      <td>2.0</td>\n",
       "      <td>1741.1</td>\n",
       "      <td>1678.9</td>\n",
       "      <td>5.8</td>\n",
       "      <td>27.0</td>\n",
       "      <td>5.7</td>\n",
       "      <td>39.0</td>\n",
       "      <td>25.0</td>\n",
       "      <td>15920</td>\n",
       "      <td>21.0</td>\n",
       "    </tr>\n",
       "  </tbody>\n",
       "</table>\n",
       "<p>5 rows × 36 columns</p>\n",
       "</div>"
      ],
      "text/plain": [
       "         ID           Date       Primary Type Arrest Domestic Community Area  \\\n",
       "0  10000092  3/18/15 19:44            BATTERY  False    False             25   \n",
       "1  10000097  3/18/15 21:00            ROBBERY  False    False             25   \n",
       "2  10000111  3/18/15 22:31              THEFT   True    False             25   \n",
       "3  10000123  3/18/15 21:44  WEAPONS VIOLATION   True    False             25   \n",
       "4  10000169  3/12/15 10:00            ASSAULT  False    False             25   \n",
       "\n",
       "      Latitude     Longitude Community Area Name Birth Rate     ...       \\\n",
       "0  41.89139886  -87.74438457              Austin       18.0     ...        \n",
       "1  41.87806476  -87.74335401              Austin       18.0     ...        \n",
       "2  41.89494561  -87.75487498              Austin       18.0     ...        \n",
       "3  41.88093404  -87.76487944              Austin       18.0     ...        \n",
       "4  41.89382065  -87.76535652              Austin       18.0     ...        \n",
       "\n",
       "  Childhood Lead Poisoning Gonorrhea in Females Gonorrhea in Males  \\\n",
       "0                      2.0               1741.1             1678.9   \n",
       "1                      2.0               1741.1             1678.9   \n",
       "2                      2.0               1741.1             1678.9   \n",
       "3                      2.0               1741.1             1678.9   \n",
       "4                      2.0               1741.1             1678.9   \n",
       "\n",
       "  Tuberculosis Below Poverty Level Crowded Housing Dependency  \\\n",
       "0          5.8                27.0             5.7       39.0   \n",
       "1          5.8                27.0             5.7       39.0   \n",
       "2          5.8                27.0             5.7       39.0   \n",
       "3          5.8                27.0             5.7       39.0   \n",
       "4          5.8                27.0             5.7       39.0   \n",
       "\n",
       "  No High School Diploma Per Capita Income Unemployment  \n",
       "0                   25.0             15920         21.0  \n",
       "1                   25.0             15920         21.0  \n",
       "2                   25.0             15920         21.0  \n",
       "3                   25.0             15920         21.0  \n",
       "4                   25.0             15920         21.0  \n",
       "\n",
       "[5 rows x 36 columns]"
      ]
     },
     "execution_count": 11,
     "metadata": {},
     "output_type": "execute_result"
    }
   ],
   "source": [
    "# importing cleaned measurments data \n",
    "data_file = \"combo_data.csv\"\n",
    "# Read CSV file into a pandas DataFrame\n",
    "crime_health_df= pd.read_csv(data_file, dtype=object)\n",
    "\n",
    "crime_health_df.head()"
   ]
  },
  {
   "cell_type": "code",
   "execution_count": 15,
   "metadata": {},
   "outputs": [],
   "source": [
    "# Create an engine to a SQLite database file called `hawaii.sqlite`\n",
    "engine = create_engine(\"sqlite:///crime_health.sqlite\")\n",
    "\n",
    "# Create a connection to the engine called `conn`\n",
    "conn = engine.connect()\n",
    "\n",
    "#creating the measurments and stations tables\n",
    "Base = declarative_base()\n",
    "\n",
    "class Crime_Health(Base):\n",
    "    __tablename__ = 'crime_health'\n",
    "\n",
    "    id = Column(Integer, primary_key=True)\n",
    "    date = Column(Integer)\n",
    "    crime_type = Column(Text)\n",
    "    arrest = Column(Integer)\n",
    "    domestic = Column(Integer)\n",
    "    community_area = Column(Integer)\n",
    "    lat = Column(Float)\n",
    "    long = Column(Float)\n",
    "    cummunity_name = Column(Text)\n",
    "    birth_rate = Column(Integer)\n",
    "    child_lead = Column(Integer)\n",
    "    gonorrhea_f = Column(Integer)\n",
    "    gonorrhea_m = Column(Integer)\n",
    "    tb = Column(Integer)\n",
    "    below_pov = Column(Integer)\n",
    "    crowd_house = Column(Integer)\n",
    "    no_hs = Column(Integer)\n",
    "    income = Column(Integer)\n",
    "    unemployment = Column(Integer)\n",
    "    \n",
    "    def __init__()\n",
    "    \n",
    "   \n",
    "    #creates a reper - returns what is at the end of a cell\n",
    "    def __repr__(self):\n",
    "        return f\"id={self.id}, name={self.name}\""
   ]
  },
  {
   "cell_type": "code",
   "execution_count": 16,
   "metadata": {
    "collapsed": true
   },
   "outputs": [],
   "source": [
    "# Use `create_all` to create the customers table in the database\n",
    "Base.metadata.create_all(engine)"
   ]
  },
  {
   "cell_type": "code",
   "execution_count": 22,
   "metadata": {},
   "outputs": [
    {
     "name": "stdout",
     "output_type": "stream",
     "text": [
      "[{'ID': '10000092', 'Date': '3/18/15 19:44', 'Primary Type': 'BATTERY', 'Arrest': 'False', 'Domestic': 'False', 'Community Area': '25', 'Latitude': '41.89139886', 'Longitude': '-87.74438457', 'Community Area Name': 'Austin', 'Birth Rate': '18.0', 'General Fertility Rate': '80.1', 'Low Birth Weight': '15.4', 'Prenatal Care Beginning in First Trimester': '72.9', 'Preterm Births': '14.3', 'Teen Birth Rate': '81.8', 'Assault (Homicide)': '34.4', 'Breast cancer in females': '33.7', 'Cancer (All Sites)': '261.9', 'Colorectal Cancer': '29.8', 'Diabetes-related': '113.9', 'Firearm-related': '28.5', 'Infant Mortality Rate': '13.3', 'Lung Cancer': '74.6', 'Prostate Cancer in Males': '69.8', 'Stroke (Cerebrovascular Disease)': '56.8', 'Childhood Blood Lead Level Screening': '492.3', 'Childhood Lead Poisoning': '2.0', 'Gonorrhea in Females': '1741.1', 'Gonorrhea in Males': '1678.9', 'Tuberculosis': '5.8', 'Below Poverty Level': '27.0', 'Crowded Housing': '5.7', 'Dependency': '39.0', 'No High School Diploma': '25.0', 'Per Capita Income': '15920', 'Unemployment': '21.0'}, {'ID': '10000097', 'Date': '3/18/15 21:00', 'Primary Type': 'ROBBERY', 'Arrest': 'False', 'Domestic': 'False', 'Community Area': '25', 'Latitude': '41.87806476', 'Longitude': '-87.74335401', 'Community Area Name': 'Austin', 'Birth Rate': '18.0', 'General Fertility Rate': '80.1', 'Low Birth Weight': '15.4', 'Prenatal Care Beginning in First Trimester': '72.9', 'Preterm Births': '14.3', 'Teen Birth Rate': '81.8', 'Assault (Homicide)': '34.4', 'Breast cancer in females': '33.7', 'Cancer (All Sites)': '261.9', 'Colorectal Cancer': '29.8', 'Diabetes-related': '113.9', 'Firearm-related': '28.5', 'Infant Mortality Rate': '13.3', 'Lung Cancer': '74.6', 'Prostate Cancer in Males': '69.8', 'Stroke (Cerebrovascular Disease)': '56.8', 'Childhood Blood Lead Level Screening': '492.3', 'Childhood Lead Poisoning': '2.0', 'Gonorrhea in Females': '1741.1', 'Gonorrhea in Males': '1678.9', 'Tuberculosis': '5.8', 'Below Poverty Level': '27.0', 'Crowded Housing': '5.7', 'Dependency': '39.0', 'No High School Diploma': '25.0', 'Per Capita Income': '15920', 'Unemployment': '21.0'}, {'ID': '10000111', 'Date': '3/18/15 22:31', 'Primary Type': 'THEFT', 'Arrest': 'True', 'Domestic': 'False', 'Community Area': '25', 'Latitude': '41.89494561', 'Longitude': '-87.75487498', 'Community Area Name': 'Austin', 'Birth Rate': '18.0', 'General Fertility Rate': '80.1', 'Low Birth Weight': '15.4', 'Prenatal Care Beginning in First Trimester': '72.9', 'Preterm Births': '14.3', 'Teen Birth Rate': '81.8', 'Assault (Homicide)': '34.4', 'Breast cancer in females': '33.7', 'Cancer (All Sites)': '261.9', 'Colorectal Cancer': '29.8', 'Diabetes-related': '113.9', 'Firearm-related': '28.5', 'Infant Mortality Rate': '13.3', 'Lung Cancer': '74.6', 'Prostate Cancer in Males': '69.8', 'Stroke (Cerebrovascular Disease)': '56.8', 'Childhood Blood Lead Level Screening': '492.3', 'Childhood Lead Poisoning': '2.0', 'Gonorrhea in Females': '1741.1', 'Gonorrhea in Males': '1678.9', 'Tuberculosis': '5.8', 'Below Poverty Level': '27.0', 'Crowded Housing': '5.7', 'Dependency': '39.0', 'No High School Diploma': '25.0', 'Per Capita Income': '15920', 'Unemployment': '21.0'}, {'ID': '10000123', 'Date': '3/18/15 21:44', 'Primary Type': 'WEAPONS VIOLATION', 'Arrest': 'True', 'Domestic': 'False', 'Community Area': '25', 'Latitude': '41.88093404', 'Longitude': '-87.76487944', 'Community Area Name': 'Austin', 'Birth Rate': '18.0', 'General Fertility Rate': '80.1', 'Low Birth Weight': '15.4', 'Prenatal Care Beginning in First Trimester': '72.9', 'Preterm Births': '14.3', 'Teen Birth Rate': '81.8', 'Assault (Homicide)': '34.4', 'Breast cancer in females': '33.7', 'Cancer (All Sites)': '261.9', 'Colorectal Cancer': '29.8', 'Diabetes-related': '113.9', 'Firearm-related': '28.5', 'Infant Mortality Rate': '13.3', 'Lung Cancer': '74.6', 'Prostate Cancer in Males': '69.8', 'Stroke (Cerebrovascular Disease)': '56.8', 'Childhood Blood Lead Level Screening': '492.3', 'Childhood Lead Poisoning': '2.0', 'Gonorrhea in Females': '1741.1', 'Gonorrhea in Males': '1678.9', 'Tuberculosis': '5.8', 'Below Poverty Level': '27.0', 'Crowded Housing': '5.7', 'Dependency': '39.0', 'No High School Diploma': '25.0', 'Per Capita Income': '15920', 'Unemployment': '21.0'}, {'ID': '10000169', 'Date': '3/12/15 10:00', 'Primary Type': 'ASSAULT', 'Arrest': 'False', 'Domestic': 'False', 'Community Area': '25', 'Latitude': '41.89382065', 'Longitude': '-87.76535652', 'Community Area Name': 'Austin', 'Birth Rate': '18.0', 'General Fertility Rate': '80.1', 'Low Birth Weight': '15.4', 'Prenatal Care Beginning in First Trimester': '72.9', 'Preterm Births': '14.3', 'Teen Birth Rate': '81.8', 'Assault (Homicide)': '34.4', 'Breast cancer in females': '33.7', 'Cancer (All Sites)': '261.9', 'Colorectal Cancer': '29.8', 'Diabetes-related': '113.9', 'Firearm-related': '28.5', 'Infant Mortality Rate': '13.3', 'Lung Cancer': '74.6', 'Prostate Cancer in Males': '69.8', 'Stroke (Cerebrovascular Disease)': '56.8', 'Childhood Blood Lead Level Screening': '492.3', 'Childhood Lead Poisoning': '2.0', 'Gonorrhea in Females': '1741.1', 'Gonorrhea in Males': '1678.9', 'Tuberculosis': '5.8', 'Below Poverty Level': '27.0', 'Crowded Housing': '5.7', 'Dependency': '39.0', 'No High School Diploma': '25.0', 'Per Capita Income': '15920', 'Unemployment': '21.0'}]\n"
     ]
    },
    {
     "data": {
      "text/plain": [
       "[(1, None, None, None, None, None, None, None, None, None, None, None, None, None, None, None, None, None, None),\n",
       " (2, None, None, None, None, None, None, None, None, None, None, None, None, None, None, None, None, None, None),\n",
       " (3, None, None, None, None, None, None, None, None, None, None, None, None, None, None, None, None, None, None),\n",
       " (4, None, None, None, None, None, None, None, None, None, None, None, None, None, None, None, None, None, None),\n",
       " (5, None, None, None, None, None, None, None, None, None, None, None, None, None, None, None, None, None, None)]"
      ]
     },
     "execution_count": 22,
     "metadata": {},
     "output_type": "execute_result"
    }
   ],
   "source": [
    "#creating table for crime_health data\n",
    "crime_health_data = crime_health_df.to_dict(orient='records')\n",
    "print(crime_health_data[:5])\n",
    "\n",
    "# Use MetaData from SQLAlchemy to reflect the tables\n",
    "metadata = MetaData(bind=engine)\n",
    "metadata.reflect()\n",
    "\n",
    "crime_health_table = sqlalchemy.Table('crime_health', metadata, autoload=True)\n",
    "\n",
    "#inserting data from csv into the table \n",
    "#conn.execute(Crime_Health.insert(), crime_health_data)\n",
    "\n",
    "crime_health_df.to_sql(\"crime_ph\",conn, if_exists='fail', index=False)\n",
    "\n",
    "\n"
   ]
  },
  {
   "cell_type": "code",
   "execution_count": 23,
   "metadata": {},
   "outputs": [
    {
     "data": {
      "text/plain": [
       "[('10000092', '3/18/15 19:44', 'BATTERY', 'False', 'False', '25', '41.89139886', '-87.74438457', 'Austin', '18.0', '80.1', '15.4', '72.9', '14.3', '81.8', '34.4', '33.7', '261.9', '29.8', '113.9', '28.5', '13.3', '74.6', '69.8', '56.8', '492.3', '2.0', '1741.1', '1678.9', '5.8', '27.0', '5.7', '39.0', '25.0', '15920', '21.0'),\n",
       " ('10000097', '3/18/15 21:00', 'ROBBERY', 'False', 'False', '25', '41.87806476', '-87.74335401', 'Austin', '18.0', '80.1', '15.4', '72.9', '14.3', '81.8', '34.4', '33.7', '261.9', '29.8', '113.9', '28.5', '13.3', '74.6', '69.8', '56.8', '492.3', '2.0', '1741.1', '1678.9', '5.8', '27.0', '5.7', '39.0', '25.0', '15920', '21.0'),\n",
       " ('10000111', '3/18/15 22:31', 'THEFT', 'True', 'False', '25', '41.89494561', '-87.75487498', 'Austin', '18.0', '80.1', '15.4', '72.9', '14.3', '81.8', '34.4', '33.7', '261.9', '29.8', '113.9', '28.5', '13.3', '74.6', '69.8', '56.8', '492.3', '2.0', '1741.1', '1678.9', '5.8', '27.0', '5.7', '39.0', '25.0', '15920', '21.0'),\n",
       " ('10000123', '3/18/15 21:44', 'WEAPONS VIOLATION', 'True', 'False', '25', '41.88093404', '-87.76487944', 'Austin', '18.0', '80.1', '15.4', '72.9', '14.3', '81.8', '34.4', '33.7', '261.9', '29.8', '113.9', '28.5', '13.3', '74.6', '69.8', '56.8', '492.3', '2.0', '1741.1', '1678.9', '5.8', '27.0', '5.7', '39.0', '25.0', '15920', '21.0'),\n",
       " ('10000169', '3/12/15 10:00', 'ASSAULT', 'False', 'False', '25', '41.89382065', '-87.76535652', 'Austin', '18.0', '80.1', '15.4', '72.9', '14.3', '81.8', '34.4', '33.7', '261.9', '29.8', '113.9', '28.5', '13.3', '74.6', '69.8', '56.8', '492.3', '2.0', '1741.1', '1678.9', '5.8', '27.0', '5.7', '39.0', '25.0', '15920', '21.0')]"
      ]
     },
     "execution_count": 23,
     "metadata": {},
     "output_type": "execute_result"
    }
   ],
   "source": [
    "conn.execute(\"select * from crime_ph limit 5\").fetchall()"
   ]
  },
  {
   "cell_type": "code",
   "execution_count": 25,
   "metadata": {},
   "outputs": [
    {
     "ename": "SyntaxError",
     "evalue": "invalid syntax (<ipython-input-25-b2f2003c3d8c>, line 1)",
     "output_type": "error",
     "traceback": [
      "\u001b[0;36m  File \u001b[0;32m\"<ipython-input-25-b2f2003c3d8c>\"\u001b[0;36m, line \u001b[0;32m1\u001b[0m\n\u001b[0;31m    select \"Community Area Name\" from crime_ph\u001b[0m\n\u001b[0m                               ^\u001b[0m\n\u001b[0;31mSyntaxError\u001b[0m\u001b[0;31m:\u001b[0m invalid syntax\n"
     ]
    }
   ],
   "source": [
    "select Community Area Name from crime_ph"
   ]
  },
  {
   "cell_type": "code",
   "execution_count": null,
   "metadata": {
    "collapsed": true
   },
   "outputs": [],
   "source": []
  }
 ],
 "metadata": {
  "kernelspec": {
   "display_name": "Python 3",
   "language": "python",
   "name": "python3"
  },
  "language_info": {
   "codemirror_mode": {
    "name": "ipython",
    "version": 3
   },
   "file_extension": ".py",
   "mimetype": "text/x-python",
   "name": "python",
   "nbconvert_exporter": "python",
   "pygments_lexer": "ipython3",
   "version": "3.6.3"
  }
 },
 "nbformat": 4,
 "nbformat_minor": 2
}
